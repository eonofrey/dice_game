{
 "cells": [
  {
   "cell_type": "markdown",
   "metadata": {},
   "source": [
    "# Dice Game Monte Carlo "
   ]
  },
  {
   "cell_type": "code",
   "execution_count": 135,
   "metadata": {
    "ExecuteTime": {
     "end_time": "2019-06-23T16:23:42.710022Z",
     "start_time": "2019-06-23T16:23:42.703890Z"
    },
    "collapsed": true
   },
   "outputs": [],
   "source": [
    "# Imports \n",
    "\n",
    "import random \n",
    "import numpy as np\n",
    "import pandas as pd\n",
    "import seaborn as sns\n",
    "import matplotlib.pyplot as plt\n",
    "from scipy import stats\n",
    "import statistics \n",
    "import collections "
   ]
  },
  {
   "cell_type": "code",
   "execution_count": 134,
   "metadata": {
    "ExecuteTime": {
     "end_time": "2019-06-23T16:23:42.505869Z",
     "start_time": "2019-06-23T16:23:42.498741Z"
    },
    "collapsed": true
   },
   "outputs": [],
   "source": [
    "def roll_dice():\n",
    "    return (random.randint(1,6))\n",
    "\n",
    "score = 0 \n",
    "rolls = 0 \n",
    "dub_counter = 0\n",
    "roll = 0\n",
    "\n",
    "dice_one = 0\n",
    "dice_two = 0"
   ]
  },
  {
   "cell_type": "markdown",
   "metadata": {},
   "source": [
    "#### Expected Value of a Dice Throw "
   ]
  },
  {
   "cell_type": "code",
   "execution_count": 133,
   "metadata": {
    "ExecuteTime": {
     "end_time": "2019-06-23T16:23:42.292612Z",
     "start_time": "2019-06-23T16:23:42.283744Z"
    },
    "collapsed": true
   },
   "outputs": [],
   "source": [
    "# Dice throw function\n",
    "def dice_throw():\n",
    "    dice_one = roll_dice()\n",
    "    dice_two = roll_dice()\n",
    "    \n",
    "    score = dice_one + dice_two \n",
    "    \n",
    "    # Dice rules \n",
    "    if (dice_one == 1) or (dice_two == 1):\n",
    "        score = 0 \n",
    "    elif  (dice_one == dice_two):\n",
    "        score = score * 2 \n",
    "    return(score)"
   ]
  },
  {
   "cell_type": "code",
   "execution_count": 132,
   "metadata": {
    "ExecuteTime": {
     "end_time": "2019-06-23T16:23:42.084231Z",
     "start_time": "2019-06-23T16:23:37.333525Z"
    },
    "scrolled": true
   },
   "outputs": [
    {
     "data": {
      "image/png": "[encoded data removed]",
      "text/plain": [
       "<matplotlib.figure.Figure at 0x1a19dbf550>"
      ]
     },
     "metadata": {},
     "output_type": "display_data"
    }
   ],
   "source": [
    "games = []\n",
    "\n",
    "# Simulate 1,000,000 tosses\n",
    "for i in range(1000000):\n",
    "    games.append(dice_throw())\n",
    "\n",
    "# Plot\n",
    "sns.kdeplot(games)\n",
    "plt.axvline(x = statistics.mean(games), color = 'red')\n",
    "plt.title('Distirbution of Scores on a Dice Throw', fontsize = 14)\n",
    "plt.xlabel('Score', fontsize=12)\n",
    "plt.ylabel('Frequency', fontsize=12)\n",
    "plt.show()"
   ]
  },
  {
   "cell_type": "code",
   "execution_count": 131,
   "metadata": {
    "ExecuteTime": {
     "end_time": "2019-06-23T16:23:35.398646Z",
     "start_time": "2019-06-23T16:23:35.319145Z"
    }
   },
   "outputs": [
    {
     "data": {
      "text/html": [
       "<div>\n",
       "<style scoped>\n",
       "    .dataframe tbody tr th:only-of-type {\n",
       "        vertical-align: middle;\n",
       "    }\n",
       "\n",
       "    .dataframe tbody tr th {\n",
       "        vertical-align: top;\n",
       "    }\n",
       "\n",
       "    .dataframe thead th {\n",
       "        text-align: right;\n",
       "    }\n",
       "</style>\n",
       "<table border=\"1\" class=\"dataframe\">\n",
       "  <thead>\n",
       "    <tr style=\"text-align: right;\">\n",
       "      <th></th>\n",
       "      <th>score</th>\n",
       "      <th>count</th>\n",
       "      <th>freq</th>\n",
       "    </tr>\n",
       "  </thead>\n",
       "  <tbody>\n",
       "    <tr>\n",
       "      <th>2</th>\n",
       "      <td>0</td>\n",
       "      <td>305677</td>\n",
       "      <td>0.305677</td>\n",
       "    </tr>\n",
       "    <tr>\n",
       "      <th>1</th>\n",
       "      <td>8</td>\n",
       "      <td>138681</td>\n",
       "      <td>0.138681</td>\n",
       "    </tr>\n",
       "    <tr>\n",
       "      <th>0</th>\n",
       "      <td>9</td>\n",
       "      <td>110987</td>\n",
       "      <td>0.110987</td>\n",
       "    </tr>\n",
       "    <tr>\n",
       "      <th>5</th>\n",
       "      <td>7</td>\n",
       "      <td>110897</td>\n",
       "      <td>0.110897</td>\n",
       "    </tr>\n",
       "    <tr>\n",
       "      <th>8</th>\n",
       "      <td>10</td>\n",
       "      <td>55975</td>\n",
       "      <td>0.055975</td>\n",
       "    </tr>\n",
       "    <tr>\n",
       "      <th>4</th>\n",
       "      <td>11</td>\n",
       "      <td>55815</td>\n",
       "      <td>0.055815</td>\n",
       "    </tr>\n",
       "    <tr>\n",
       "      <th>7</th>\n",
       "      <td>5</td>\n",
       "      <td>55554</td>\n",
       "      <td>0.055554</td>\n",
       "    </tr>\n",
       "    <tr>\n",
       "      <th>3</th>\n",
       "      <td>6</td>\n",
       "      <td>55434</td>\n",
       "      <td>0.055434</td>\n",
       "    </tr>\n",
       "    <tr>\n",
       "      <th>11</th>\n",
       "      <td>24</td>\n",
       "      <td>28065</td>\n",
       "      <td>0.028065</td>\n",
       "    </tr>\n",
       "    <tr>\n",
       "      <th>10</th>\n",
       "      <td>20</td>\n",
       "      <td>27789</td>\n",
       "      <td>0.027789</td>\n",
       "    </tr>\n",
       "    <tr>\n",
       "      <th>9</th>\n",
       "      <td>16</td>\n",
       "      <td>27640</td>\n",
       "      <td>0.027640</td>\n",
       "    </tr>\n",
       "    <tr>\n",
       "      <th>6</th>\n",
       "      <td>12</td>\n",
       "      <td>27486</td>\n",
       "      <td>0.027486</td>\n",
       "    </tr>\n",
       "  </tbody>\n",
       "</table>\n",
       "</div>"
      ],
      "text/plain": [
       "    score   count      freq\n",
       "2       0  305677  0.305677\n",
       "1       8  138681  0.138681\n",
       "0       9  110987  0.110987\n",
       "5       7  110897  0.110897\n",
       "8      10   55975  0.055975\n",
       "4      11   55815  0.055815\n",
       "7       5   55554  0.055554\n",
       "3       6   55434  0.055434\n",
       "11     24   28065  0.028065\n",
       "10     20   27789  0.027789\n",
       "9      16   27640  0.027640\n",
       "6      12   27486  0.027486"
      ]
     },
     "execution_count": 131,
     "metadata": {},
     "output_type": "execute_result"
    }
   ],
   "source": [
    "# Get counts of each score\n",
    "ctr = collections.Counter(games)\n",
    "keys = [i for i in ctr.keys()]\n",
    "values = [i for i in ctr.values()]\n",
    "\n",
    "# Throw into df\n",
    "df = pd.DataFrame({'score': keys, 'count': values}, index=range(12))\n",
    "df['freq'] = df['count'] / len(games)\n",
    "\n",
    "# Sort and show\n",
    "df = df.sort_values(by=['freq'], ascending = False)\n",
    "df[['score', 'count', 'freq']]"
   ]
  },
  {
   "cell_type": "code",
   "execution_count": 125,
   "metadata": {
    "ExecuteTime": {
     "end_time": "2019-06-23T16:01:42.527584Z",
     "start_time": "2019-06-23T16:01:42.519960Z"
    }
   },
   "outputs": [
    {
     "ename": "SyntaxError",
     "evalue": "invalid syntax (<ipython-input-125-dd769fc2d2b0>, line 7)",
     "output_type": "error",
     "traceback": [
      "\u001b[0;36m  File \u001b[0;32m\"<ipython-input-125-dd769fc2d2b0>\"\u001b[0;36m, line \u001b[0;32m7\u001b[0m\n\u001b[0;31m    if dice_one == dice_two == 1\u001b[0m\n\u001b[0m                                 ^\u001b[0m\n\u001b[0;31mSyntaxError\u001b[0m\u001b[0;31m:\u001b[0m invalid syntax\n"
     ]
    }
   ],
   "source": [
    "# while score < 100: \n",
    "#     # roll dice\n",
    "#     dice_one = roll_dice()\n",
    "#     dice_two = roll_dice()\n",
    "    \n",
    "#     # snake eyes \n",
    "#     if dice_one == dice_two == 1 \n",
    "\n"
   ]
  }
 ],
 "metadata": {
  "kernelspec": {
   "display_name": "Python 3",
   "language": "python",
   "name": "python3"
  },
  "language_info": {
   "codemirror_mode": {
    "name": "ipython",
    "version": 3
   },
   "file_extension": ".py",
   "mimetype": "text/x-python",
   "name": "python",
   "nbconvert_exporter": "python",
   "pygments_lexer": "ipython3",
   "version": "3.6.3"
  },
  "varInspector": {
   "cols": {
    "lenName": 16,
    "lenType": 16,
    "lenVar": 40
   },
   "kernels_config": {
    "python": {
     "delete_cmd_postfix": "",
     "delete_cmd_prefix": "del ",
     "library": "var_list.py",
     "varRefreshCmd": "print(var_dic_list())"
    },
    "r": {
     "delete_cmd_postfix": ") ",
     "delete_cmd_prefix": "rm(",
     "library": "var_list.r",
     "varRefreshCmd": "cat(var_dic_list()) "
    }
   },
   "types_to_exclude": [
    "module",
    "function",
    "builtin_function_or_method",
    "instance",
    "_Feature"
   ],
   "window_display": false
  }
 },
 "nbformat": 4,
 "nbformat_minor": 2
}
