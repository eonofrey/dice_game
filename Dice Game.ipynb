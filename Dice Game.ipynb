{
 "cells": [
  {
   "cell_type": "markdown",
   "metadata": {},
   "source": [
    "# Dice Game Monte Carlo "
   ]
  },
  {
   "cell_type": "code",
   "execution_count": 19,
   "metadata": {
    "ExecuteTime": {
     "end_time": "2019-07-13T23:46:58.411473Z",
     "start_time": "2019-07-13T23:46:58.381797Z"
    },
    "collapsed": true
   },
   "outputs": [],
   "source": [
    "# Imports \n",
    "import random \n",
    "import numpy as np\n",
    "import pandas as pd\n",
    "import seaborn as sns\n",
    "import matplotlib.pyplot as plt\n",
    "from scipy import stats\n",
    "import statistics \n",
    "import collections \n"
   ]
  },
  {
   "cell_type": "code",
   "execution_count": 20,
   "metadata": {
    "ExecuteTime": {
     "end_time": "2019-07-13T23:46:58.648762Z",
     "start_time": "2019-07-13T23:46:58.644508Z"
    },
    "collapsed": true
   },
   "outputs": [],
   "source": [
    "def roll_dice():\n",
    "    return (random.randint(1,6))\n"
   ]
  },
  {
   "cell_type": "code",
   "execution_count": 21,
   "metadata": {
    "ExecuteTime": {
     "end_time": "2019-07-13T23:46:59.172387Z",
     "start_time": "2019-07-13T23:46:59.166925Z"
    },
    "collapsed": true
   },
   "outputs": [],
   "source": [
    "def prob_below(data, n = 10):\n",
    "    prob = sum(1 for x in data if x < n) / len(data) * 100\n",
    "    return(prob)\n"
   ]
  },
  {
   "cell_type": "code",
   "execution_count": 22,
   "metadata": {
    "ExecuteTime": {
     "end_time": "2019-07-13T23:46:59.807087Z",
     "start_time": "2019-07-13T23:46:59.797602Z"
    },
    "collapsed": true
   },
   "outputs": [],
   "source": [
    "def plot_distribution(data, title = \"Title\", \n",
    "                            xlab = \"Number of Turns\", \n",
    "                            ylab = \"Frequency\"): \n",
    "    sns.kdeplot(data)\n",
    "    plt.axvline(x = statistics.mean(data), color = 'red')\n",
    "    plt.title(title, fontsize = 14)\n",
    "    plt.xlabel(xlab, fontsize=12)\n",
    "    plt.ylabel(ylab, fontsize=12)\n",
    "    plt.show()"
   ]
  },
  {
   "cell_type": "markdown",
   "metadata": {},
   "source": [
    "#### Expected Value of a Dice Throw "
   ]
  },
  {
   "cell_type": "code",
   "execution_count": 23,
   "metadata": {
    "ExecuteTime": {
     "end_time": "2019-07-13T23:47:02.713448Z",
     "start_time": "2019-07-13T23:47:02.703730Z"
    },
    "collapsed": true
   },
   "outputs": [],
   "source": [
    "# Dice throw function\n",
    "def dice_throw():\n",
    "    dice_one = roll_dice()\n",
    "    dice_two = roll_dice()\n",
    "    \n",
    "    score = dice_one + dice_two \n",
    "    \n",
    "    # Dice rules \n",
    "    if (dice_one == 1) or (dice_two == 1):\n",
    "        score = 0 \n",
    "    elif  (dice_one == dice_two):\n",
    "        score = score * 2 \n",
    "    return(score)"
   ]
  },
  {
   "cell_type": "code",
   "execution_count": 164,
   "metadata": {
    "ExecuteTime": {
     "end_time": "2019-06-28T23:33:19.002442Z",
     "start_time": "2019-06-28T23:33:14.445927Z"
    },
    "scrolled": true
   },
   "outputs": [
    {
     "data": {
      "image/png": "[encoded data removed]",
      "text/plain": [
       "<matplotlib.figure.Figure at 0x1a1be23c18>"
      ]
     },
     "metadata": {},
     "output_type": "display_data"
    }
   ],
   "source": [
    "games = []\n",
    "\n",
    "# Simulate 1,000,000 tosses\n",
    "for i in range(1000000):\n",
    "    games.append(dice_throw())\n",
    "\n",
    "plot_distribution(games, \n",
    "                  title = 'Distirbution of Scores on a Dice Throw',\n",
    "                  xlab = 'Score')"
   ]
  },
  {
   "cell_type": "code",
   "execution_count": 46,
   "metadata": {
    "ExecuteTime": {
     "end_time": "2019-06-27T00:17:13.598966Z",
     "start_time": "2019-06-27T00:17:13.393491Z"
    }
   },
   "outputs": [
    {
     "data": {
      "text/html": [
       "<div>\n",
       "<style scoped>\n",
       "    .dataframe tbody tr th:only-of-type {\n",
       "        vertical-align: middle;\n",
       "    }\n",
       "\n",
       "    .dataframe tbody tr th {\n",
       "        vertical-align: top;\n",
       "    }\n",
       "\n",
       "    .dataframe thead th {\n",
       "        text-align: right;\n",
       "    }\n",
       "</style>\n",
       "<table border=\"1\" class=\"dataframe\">\n",
       "  <thead>\n",
       "    <tr style=\"text-align: right;\">\n",
       "      <th></th>\n",
       "      <th>score</th>\n",
       "      <th>count</th>\n",
       "      <th>freq</th>\n",
       "    </tr>\n",
       "  </thead>\n",
       "  <tbody>\n",
       "    <tr>\n",
       "      <th>6</th>\n",
       "      <td>0</td>\n",
       "      <td>305770</td>\n",
       "      <td>0.305770</td>\n",
       "    </tr>\n",
       "    <tr>\n",
       "      <th>8</th>\n",
       "      <td>8</td>\n",
       "      <td>138870</td>\n",
       "      <td>0.138870</td>\n",
       "    </tr>\n",
       "    <tr>\n",
       "      <th>7</th>\n",
       "      <td>7</td>\n",
       "      <td>111338</td>\n",
       "      <td>0.111338</td>\n",
       "    </tr>\n",
       "    <tr>\n",
       "      <th>3</th>\n",
       "      <td>9</td>\n",
       "      <td>110679</td>\n",
       "      <td>0.110679</td>\n",
       "    </tr>\n",
       "    <tr>\n",
       "      <th>0</th>\n",
       "      <td>5</td>\n",
       "      <td>55754</td>\n",
       "      <td>0.055754</td>\n",
       "    </tr>\n",
       "    <tr>\n",
       "      <th>5</th>\n",
       "      <td>11</td>\n",
       "      <td>55560</td>\n",
       "      <td>0.055560</td>\n",
       "    </tr>\n",
       "    <tr>\n",
       "      <th>9</th>\n",
       "      <td>6</td>\n",
       "      <td>55369</td>\n",
       "      <td>0.055369</td>\n",
       "    </tr>\n",
       "    <tr>\n",
       "      <th>1</th>\n",
       "      <td>10</td>\n",
       "      <td>55352</td>\n",
       "      <td>0.055352</td>\n",
       "    </tr>\n",
       "    <tr>\n",
       "      <th>4</th>\n",
       "      <td>24</td>\n",
       "      <td>28033</td>\n",
       "      <td>0.028033</td>\n",
       "    </tr>\n",
       "    <tr>\n",
       "      <th>10</th>\n",
       "      <td>20</td>\n",
       "      <td>27789</td>\n",
       "      <td>0.027789</td>\n",
       "    </tr>\n",
       "    <tr>\n",
       "      <th>2</th>\n",
       "      <td>12</td>\n",
       "      <td>27752</td>\n",
       "      <td>0.027752</td>\n",
       "    </tr>\n",
       "    <tr>\n",
       "      <th>11</th>\n",
       "      <td>16</td>\n",
       "      <td>27734</td>\n",
       "      <td>0.027734</td>\n",
       "    </tr>\n",
       "  </tbody>\n",
       "</table>\n",
       "</div>"
      ],
      "text/plain": [
       "    score   count      freq\n",
       "6       0  305770  0.305770\n",
       "8       8  138870  0.138870\n",
       "7       7  111338  0.111338\n",
       "3       9  110679  0.110679\n",
       "0       5   55754  0.055754\n",
       "5      11   55560  0.055560\n",
       "9       6   55369  0.055369\n",
       "1      10   55352  0.055352\n",
       "4      24   28033  0.028033\n",
       "10     20   27789  0.027789\n",
       "2      12   27752  0.027752\n",
       "11     16   27734  0.027734"
      ]
     },
     "execution_count": 46,
     "metadata": {},
     "output_type": "execute_result"
    }
   ],
   "source": [
    "# Get counts of each score\n",
    "ctr = collections.Counter(games)\n",
    "keys = [i for i in ctr.keys()]\n",
    "values = [i for i in ctr.values()]\n",
    "\n",
    "# Throw into df\n",
    "df = pd.DataFrame({'score': keys, 'count': values}, index=range(12))\n",
    "df['freq'] = df['count'] / len(games)\n",
    "\n",
    "# Sort and show\n",
    "df = df.sort_values(by=['freq'], ascending = False)\n",
    "df[['score', 'count', 'freq']]"
   ]
  },
  {
   "cell_type": "markdown",
   "metadata": {},
   "source": [
    "### Toss until you hit 100 "
   ]
  },
  {
   "cell_type": "code",
   "execution_count": null,
   "metadata": {
    "ExecuteTime": {
     "end_time": "2019-06-23T19:02:24.049033Z",
     "start_time": "2019-06-23T19:02:24.043914Z"
    },
    "collapsed": true
   },
   "outputs": [],
   "source": []
  },
  {
   "cell_type": "code",
   "execution_count": 17,
   "metadata": {
    "ExecuteTime": {
     "end_time": "2019-06-29T15:19:31.151995Z",
     "start_time": "2019-06-29T15:19:31.081435Z"
    },
    "collapsed": true
   },
   "outputs": [],
   "source": [
    "def straight_run_sim():\n",
    "    total_score = 0 \n",
    "    dub_counter = 0\n",
    "    roll_score = 0\n",
    "    dice_one = 0\n",
    "    dice_two = 0\n",
    "    turn_counter = 1\n",
    "    \n",
    "    while total_score < 100: \n",
    "        # Reset roll\n",
    "            roll_score = 0\n",
    "\n",
    "            # Roll dice\n",
    "            dice_one = roll_dice()\n",
    "            dice_two = roll_dice()\n",
    "\n",
    "            # Doubles or not\n",
    "            if dice_one == dice_two:\n",
    "                if (dice_one == 1 and dice_two == 1):\n",
    "                    if total_score == 0:\n",
    "                        total_score = -50\n",
    "                        turn_counter += 1\n",
    "                    else: \n",
    "                        total_score = min(0, total_score)\n",
    "                        turn_counter += 1\n",
    "                else:\n",
    "                    dub_counter += 1\n",
    "                    roll_score = (dice_one + dice_two) * 2\n",
    "            elif (dice_one == 1 or dice_two == 1):\n",
    "                total_score = min(0, total_score)\n",
    "                dub_counter = 0\n",
    "                turn_counter += 1\n",
    "            else: \n",
    "                roll_score = dice_one + dice_two \n",
    "                dub_counter = 0\n",
    "\n",
    "            # Add your score\n",
    "            total_score += roll_score \n",
    "\n",
    "            # 100 and 3 doubles check\n",
    "            if total_score == 100:\n",
    "                total_score = 0\n",
    "                turn_counter += 1\n",
    "            elif dub_counter == 3:\n",
    "                total_score = 0\n",
    "                turn_counter += 1\n",
    "    return (turn_counter)\n",
    "\n",
    "\n",
    "\n",
    "    \n",
    "    \n",
    "    "
   ]
  },
  {
   "cell_type": "code",
   "execution_count": 24,
   "metadata": {
    "ExecuteTime": {
     "end_time": "2019-06-29T15:36:01.125601Z",
     "start_time": "2019-06-29T15:23:43.814948Z"
    }
   },
   "outputs": [
    {
     "data": {
      "image/png": "[encoded data removed]",
      "text/plain": [
       "<matplotlib.figure.Figure at 0x1a13609828>"
      ]
     },
     "metadata": {},
     "output_type": "display_data"
    }
   ],
   "source": [
    "straight_games = []\n",
    "\n",
    "# Simulate 1,000,000 tosses\n",
    "for i in range(100000):\n",
    "    straight_games.append(straight_run_sim())\n",
    "\n",
    "plot_distribution(straight_games, \"Turns Needed to Win on a Striaght Run\")"
   ]
  },
  {
   "cell_type": "code",
   "execution_count": 19,
   "metadata": {
    "ExecuteTime": {
     "end_time": "2019-06-29T15:20:48.681708Z",
     "start_time": "2019-06-29T15:20:48.604994Z"
    }
   },
   "outputs": [
    {
     "data": {
      "text/plain": [
       "62.38732"
      ]
     },
     "execution_count": 19,
     "metadata": {},
     "output_type": "execute_result"
    }
   ],
   "source": [
    "statistics.mean(straight_games)"
   ]
  },
  {
   "cell_type": "code",
   "execution_count": 52,
   "metadata": {
    "ExecuteTime": {
     "end_time": "2019-06-27T00:18:31.684746Z",
     "start_time": "2019-06-27T00:18:31.642495Z"
    },
    "scrolled": true
   },
   "outputs": [
    {
     "data": {
      "text/html": [
       "<div>\n",
       "<style scoped>\n",
       "    .dataframe tbody tr th:only-of-type {\n",
       "        vertical-align: middle;\n",
       "    }\n",
       "\n",
       "    .dataframe tbody tr th {\n",
       "        vertical-align: top;\n",
       "    }\n",
       "\n",
       "    .dataframe thead th {\n",
       "        text-align: right;\n",
       "    }\n",
       "</style>\n",
       "<table border=\"1\" class=\"dataframe\">\n",
       "  <thead>\n",
       "    <tr style=\"text-align: right;\">\n",
       "      <th></th>\n",
       "      <th>score</th>\n",
       "      <th>count</th>\n",
       "      <th>freq</th>\n",
       "    </tr>\n",
       "  </thead>\n",
       "  <tbody>\n",
       "    <tr>\n",
       "      <th>35</th>\n",
       "      <td>1</td>\n",
       "      <td>1664</td>\n",
       "      <td>0.001664</td>\n",
       "    </tr>\n",
       "    <tr>\n",
       "      <th>36</th>\n",
       "      <td>2</td>\n",
       "      <td>1635</td>\n",
       "      <td>0.001635</td>\n",
       "    </tr>\n",
       "    <tr>\n",
       "      <th>25</th>\n",
       "      <td>3</td>\n",
       "      <td>1618</td>\n",
       "      <td>0.001618</td>\n",
       "    </tr>\n",
       "    <tr>\n",
       "      <th>7</th>\n",
       "      <td>5</td>\n",
       "      <td>1502</td>\n",
       "      <td>0.001502</td>\n",
       "    </tr>\n",
       "    <tr>\n",
       "      <th>22</th>\n",
       "      <td>6</td>\n",
       "      <td>1499</td>\n",
       "      <td>0.001499</td>\n",
       "    </tr>\n",
       "    <tr>\n",
       "      <th>5</th>\n",
       "      <td>4</td>\n",
       "      <td>1486</td>\n",
       "      <td>0.001486</td>\n",
       "    </tr>\n",
       "    <tr>\n",
       "      <th>71</th>\n",
       "      <td>9</td>\n",
       "      <td>1462</td>\n",
       "      <td>0.001462</td>\n",
       "    </tr>\n",
       "    <tr>\n",
       "      <th>16</th>\n",
       "      <td>7</td>\n",
       "      <td>1413</td>\n",
       "      <td>0.001413</td>\n",
       "    </tr>\n",
       "    <tr>\n",
       "      <th>3</th>\n",
       "      <td>10</td>\n",
       "      <td>1369</td>\n",
       "      <td>0.001369</td>\n",
       "    </tr>\n",
       "    <tr>\n",
       "      <th>18</th>\n",
       "      <td>11</td>\n",
       "      <td>1339</td>\n",
       "      <td>0.001339</td>\n",
       "    </tr>\n",
       "    <tr>\n",
       "      <th>55</th>\n",
       "      <td>8</td>\n",
       "      <td>1339</td>\n",
       "      <td>0.001339</td>\n",
       "    </tr>\n",
       "    <tr>\n",
       "      <th>13</th>\n",
       "      <td>13</td>\n",
       "      <td>1313</td>\n",
       "      <td>0.001313</td>\n",
       "    </tr>\n",
       "    <tr>\n",
       "      <th>45</th>\n",
       "      <td>12</td>\n",
       "      <td>1299</td>\n",
       "      <td>0.001299</td>\n",
       "    </tr>\n",
       "    <tr>\n",
       "      <th>68</th>\n",
       "      <td>19</td>\n",
       "      <td>1280</td>\n",
       "      <td>0.001280</td>\n",
       "    </tr>\n",
       "    <tr>\n",
       "      <th>97</th>\n",
       "      <td>14</td>\n",
       "      <td>1274</td>\n",
       "      <td>0.001274</td>\n",
       "    </tr>\n",
       "    <tr>\n",
       "      <th>0</th>\n",
       "      <td>15</td>\n",
       "      <td>1271</td>\n",
       "      <td>0.001271</td>\n",
       "    </tr>\n",
       "    <tr>\n",
       "      <th>2</th>\n",
       "      <td>16</td>\n",
       "      <td>1259</td>\n",
       "      <td>0.001259</td>\n",
       "    </tr>\n",
       "    <tr>\n",
       "      <th>17</th>\n",
       "      <td>20</td>\n",
       "      <td>1227</td>\n",
       "      <td>0.001227</td>\n",
       "    </tr>\n",
       "    <tr>\n",
       "      <th>31</th>\n",
       "      <td>17</td>\n",
       "      <td>1210</td>\n",
       "      <td>0.001210</td>\n",
       "    </tr>\n",
       "    <tr>\n",
       "      <th>34</th>\n",
       "      <td>18</td>\n",
       "      <td>1201</td>\n",
       "      <td>0.001201</td>\n",
       "    </tr>\n",
       "    <tr>\n",
       "      <th>32</th>\n",
       "      <td>22</td>\n",
       "      <td>1171</td>\n",
       "      <td>0.001171</td>\n",
       "    </tr>\n",
       "    <tr>\n",
       "      <th>29</th>\n",
       "      <td>21</td>\n",
       "      <td>1158</td>\n",
       "      <td>0.001158</td>\n",
       "    </tr>\n",
       "    <tr>\n",
       "      <th>8</th>\n",
       "      <td>25</td>\n",
       "      <td>1141</td>\n",
       "      <td>0.001141</td>\n",
       "    </tr>\n",
       "    <tr>\n",
       "      <th>54</th>\n",
       "      <td>23</td>\n",
       "      <td>1106</td>\n",
       "      <td>0.001106</td>\n",
       "    </tr>\n",
       "    <tr>\n",
       "      <th>28</th>\n",
       "      <td>24</td>\n",
       "      <td>1104</td>\n",
       "      <td>0.001104</td>\n",
       "    </tr>\n",
       "    <tr>\n",
       "      <th>33</th>\n",
       "      <td>27</td>\n",
       "      <td>1092</td>\n",
       "      <td>0.001092</td>\n",
       "    </tr>\n",
       "    <tr>\n",
       "      <th>88</th>\n",
       "      <td>26</td>\n",
       "      <td>1069</td>\n",
       "      <td>0.001069</td>\n",
       "    </tr>\n",
       "    <tr>\n",
       "      <th>20</th>\n",
       "      <td>28</td>\n",
       "      <td>1027</td>\n",
       "      <td>0.001027</td>\n",
       "    </tr>\n",
       "    <tr>\n",
       "      <th>69</th>\n",
       "      <td>31</td>\n",
       "      <td>1010</td>\n",
       "      <td>0.001010</td>\n",
       "    </tr>\n",
       "    <tr>\n",
       "      <th>48</th>\n",
       "      <td>29</td>\n",
       "      <td>999</td>\n",
       "      <td>0.000999</td>\n",
       "    </tr>\n",
       "    <tr>\n",
       "      <th>...</th>\n",
       "      <td>...</td>\n",
       "      <td>...</td>\n",
       "      <td>...</td>\n",
       "    </tr>\n",
       "    <tr>\n",
       "      <th>453</th>\n",
       "      <td>579</td>\n",
       "      <td>1</td>\n",
       "      <td>0.000001</td>\n",
       "    </tr>\n",
       "    <tr>\n",
       "      <th>329</th>\n",
       "      <td>503</td>\n",
       "      <td>1</td>\n",
       "      <td>0.000001</td>\n",
       "    </tr>\n",
       "    <tr>\n",
       "      <th>408</th>\n",
       "      <td>726</td>\n",
       "      <td>1</td>\n",
       "      <td>0.000001</td>\n",
       "    </tr>\n",
       "    <tr>\n",
       "      <th>406</th>\n",
       "      <td>455</td>\n",
       "      <td>1</td>\n",
       "      <td>0.000001</td>\n",
       "    </tr>\n",
       "    <tr>\n",
       "      <th>421</th>\n",
       "      <td>538</td>\n",
       "      <td>1</td>\n",
       "      <td>0.000001</td>\n",
       "    </tr>\n",
       "    <tr>\n",
       "      <th>422</th>\n",
       "      <td>523</td>\n",
       "      <td>1</td>\n",
       "      <td>0.000001</td>\n",
       "    </tr>\n",
       "    <tr>\n",
       "      <th>405</th>\n",
       "      <td>371</td>\n",
       "      <td>1</td>\n",
       "      <td>0.000001</td>\n",
       "    </tr>\n",
       "    <tr>\n",
       "      <th>399</th>\n",
       "      <td>563</td>\n",
       "      <td>1</td>\n",
       "      <td>0.000001</td>\n",
       "    </tr>\n",
       "    <tr>\n",
       "      <th>394</th>\n",
       "      <td>564</td>\n",
       "      <td>1</td>\n",
       "      <td>0.000001</td>\n",
       "    </tr>\n",
       "    <tr>\n",
       "      <th>393</th>\n",
       "      <td>511</td>\n",
       "      <td>1</td>\n",
       "      <td>0.000001</td>\n",
       "    </tr>\n",
       "    <tr>\n",
       "      <th>427</th>\n",
       "      <td>460</td>\n",
       "      <td>1</td>\n",
       "      <td>0.000001</td>\n",
       "    </tr>\n",
       "    <tr>\n",
       "      <th>392</th>\n",
       "      <td>756</td>\n",
       "      <td>1</td>\n",
       "      <td>0.000001</td>\n",
       "    </tr>\n",
       "    <tr>\n",
       "      <th>429</th>\n",
       "      <td>545</td>\n",
       "      <td>1</td>\n",
       "      <td>0.000001</td>\n",
       "    </tr>\n",
       "    <tr>\n",
       "      <th>387</th>\n",
       "      <td>448</td>\n",
       "      <td>1</td>\n",
       "      <td>0.000001</td>\n",
       "    </tr>\n",
       "    <tr>\n",
       "      <th>383</th>\n",
       "      <td>515</td>\n",
       "      <td>1</td>\n",
       "      <td>0.000001</td>\n",
       "    </tr>\n",
       "    <tr>\n",
       "      <th>377</th>\n",
       "      <td>419</td>\n",
       "      <td>1</td>\n",
       "      <td>0.000001</td>\n",
       "    </tr>\n",
       "    <tr>\n",
       "      <th>373</th>\n",
       "      <td>484</td>\n",
       "      <td>1</td>\n",
       "      <td>0.000001</td>\n",
       "    </tr>\n",
       "    <tr>\n",
       "      <th>437</th>\n",
       "      <td>436</td>\n",
       "      <td>1</td>\n",
       "      <td>0.000001</td>\n",
       "    </tr>\n",
       "    <tr>\n",
       "      <th>438</th>\n",
       "      <td>400</td>\n",
       "      <td>1</td>\n",
       "      <td>0.000001</td>\n",
       "    </tr>\n",
       "    <tr>\n",
       "      <th>359</th>\n",
       "      <td>495</td>\n",
       "      <td>1</td>\n",
       "      <td>0.000001</td>\n",
       "    </tr>\n",
       "    <tr>\n",
       "      <th>441</th>\n",
       "      <td>547</td>\n",
       "      <td>1</td>\n",
       "      <td>0.000001</td>\n",
       "    </tr>\n",
       "    <tr>\n",
       "      <th>442</th>\n",
       "      <td>517</td>\n",
       "      <td>1</td>\n",
       "      <td>0.000001</td>\n",
       "    </tr>\n",
       "    <tr>\n",
       "      <th>443</th>\n",
       "      <td>425</td>\n",
       "      <td>1</td>\n",
       "      <td>0.000001</td>\n",
       "    </tr>\n",
       "    <tr>\n",
       "      <th>444</th>\n",
       "      <td>440</td>\n",
       "      <td>1</td>\n",
       "      <td>0.000001</td>\n",
       "    </tr>\n",
       "    <tr>\n",
       "      <th>445</th>\n",
       "      <td>422</td>\n",
       "      <td>1</td>\n",
       "      <td>0.000001</td>\n",
       "    </tr>\n",
       "    <tr>\n",
       "      <th>344</th>\n",
       "      <td>505</td>\n",
       "      <td>1</td>\n",
       "      <td>0.000001</td>\n",
       "    </tr>\n",
       "    <tr>\n",
       "      <th>448</th>\n",
       "      <td>464</td>\n",
       "      <td>1</td>\n",
       "      <td>0.000001</td>\n",
       "    </tr>\n",
       "    <tr>\n",
       "      <th>450</th>\n",
       "      <td>573</td>\n",
       "      <td>1</td>\n",
       "      <td>0.000001</td>\n",
       "    </tr>\n",
       "    <tr>\n",
       "      <th>414</th>\n",
       "      <td>388</td>\n",
       "      <td>1</td>\n",
       "      <td>0.000001</td>\n",
       "    </tr>\n",
       "    <tr>\n",
       "      <th>484</th>\n",
       "      <td>588</td>\n",
       "      <td>1</td>\n",
       "      <td>0.000001</td>\n",
       "    </tr>\n",
       "  </tbody>\n",
       "</table>\n",
       "<p>485 rows × 3 columns</p>\n",
       "</div>"
      ],
      "text/plain": [
       "     score  count      freq\n",
       "35       1   1664  0.001664\n",
       "36       2   1635  0.001635\n",
       "25       3   1618  0.001618\n",
       "7        5   1502  0.001502\n",
       "22       6   1499  0.001499\n",
       "5        4   1486  0.001486\n",
       "71       9   1462  0.001462\n",
       "16       7   1413  0.001413\n",
       "3       10   1369  0.001369\n",
       "18      11   1339  0.001339\n",
       "55       8   1339  0.001339\n",
       "13      13   1313  0.001313\n",
       "45      12   1299  0.001299\n",
       "68      19   1280  0.001280\n",
       "97      14   1274  0.001274\n",
       "0       15   1271  0.001271\n",
       "2       16   1259  0.001259\n",
       "17      20   1227  0.001227\n",
       "31      17   1210  0.001210\n",
       "34      18   1201  0.001201\n",
       "32      22   1171  0.001171\n",
       "29      21   1158  0.001158\n",
       "8       25   1141  0.001141\n",
       "54      23   1106  0.001106\n",
       "28      24   1104  0.001104\n",
       "33      27   1092  0.001092\n",
       "88      26   1069  0.001069\n",
       "20      28   1027  0.001027\n",
       "69      31   1010  0.001010\n",
       "48      29    999  0.000999\n",
       "..     ...    ...       ...\n",
       "453    579      1  0.000001\n",
       "329    503      1  0.000001\n",
       "408    726      1  0.000001\n",
       "406    455      1  0.000001\n",
       "421    538      1  0.000001\n",
       "422    523      1  0.000001\n",
       "405    371      1  0.000001\n",
       "399    563      1  0.000001\n",
       "394    564      1  0.000001\n",
       "393    511      1  0.000001\n",
       "427    460      1  0.000001\n",
       "392    756      1  0.000001\n",
       "429    545      1  0.000001\n",
       "387    448      1  0.000001\n",
       "383    515      1  0.000001\n",
       "377    419      1  0.000001\n",
       "373    484      1  0.000001\n",
       "437    436      1  0.000001\n",
       "438    400      1  0.000001\n",
       "359    495      1  0.000001\n",
       "441    547      1  0.000001\n",
       "442    517      1  0.000001\n",
       "443    425      1  0.000001\n",
       "444    440      1  0.000001\n",
       "445    422      1  0.000001\n",
       "344    505      1  0.000001\n",
       "448    464      1  0.000001\n",
       "450    573      1  0.000001\n",
       "414    388      1  0.000001\n",
       "484    588      1  0.000001\n",
       "\n",
       "[485 rows x 3 columns]"
      ]
     },
     "execution_count": 52,
     "metadata": {},
     "output_type": "execute_result"
    }
   ],
   "source": [
    "# Get counts of each score\n",
    "ctr = collections.Counter(straight_games)\n",
    "keys = [i for i in ctr.keys()]\n",
    "values = [i for i in ctr.values()]\n",
    "\n",
    "# Throw into df\n",
    "df = pd.DataFrame({'score': keys, 'count': values}, index=range(len(ctr)))\n",
    "df['freq'] = df['count'] / len(games)\n",
    "\n",
    "# Sort and show\n",
    "df = df.sort_values(by=['freq'], ascending = False)\n",
    "df[['score', 'count', 'freq']]"
   ]
  },
  {
   "cell_type": "code",
   "execution_count": 25,
   "metadata": {
    "ExecuteTime": {
     "end_time": "2019-06-29T15:36:01.926040Z",
     "start_time": "2019-06-29T15:36:01.242995Z"
    }
   },
   "outputs": [
    {
     "data": {
      "text/plain": [
       "62.307541"
      ]
     },
     "execution_count": 25,
     "metadata": {},
     "output_type": "execute_result"
    }
   ],
   "source": [
    "statistics.mean(straight_games)"
   ]
  },
  {
   "cell_type": "code",
   "execution_count": 26,
   "metadata": {
    "ExecuteTime": {
     "end_time": "2019-06-29T15:36:02.078521Z",
     "start_time": "2019-06-29T15:36:02.034805Z"
    }
   },
   "outputs": [
    {
     "data": {
      "text/plain": [
       "7.9673"
      ]
     },
     "execution_count": 26,
     "metadata": {},
     "output_type": "execute_result"
    }
   ],
   "source": [
    "prob_below(straight_games, 6)"
   ]
  },
  {
   "cell_type": "code",
   "execution_count": 27,
   "metadata": {
    "ExecuteTime": {
     "end_time": "2019-06-29T15:36:02.270167Z",
     "start_time": "2019-06-29T15:36:02.204476Z"
    }
   },
   "outputs": [
    {
     "data": {
      "text/plain": [
       "13.712299999999999"
      ]
     },
     "execution_count": 27,
     "metadata": {},
     "output_type": "execute_result"
    }
   ],
   "source": [
    "prob_below(straight_games, 10)"
   ]
  },
  {
   "cell_type": "markdown",
   "metadata": {
    "collapsed": true
   },
   "source": [
    "### Toss just once per turn "
   ]
  },
  {
   "cell_type": "code",
   "execution_count": 9,
   "metadata": {
    "ExecuteTime": {
     "end_time": "2019-06-29T15:05:03.731124Z",
     "start_time": "2019-06-29T15:05:03.655789Z"
    },
    "collapsed": true
   },
   "outputs": [],
   "source": [
    "def one_roll_sim():\n",
    "    \n",
    "    total_score = 0 \n",
    "    dub_counter = 0\n",
    "    roll_score = 0\n",
    "    dice_one = 0\n",
    "    dice_two = 0\n",
    "    roll_counter = 0\n",
    "    turn_counter = 1\n",
    "\n",
    "    while total_score < 100:\n",
    "\n",
    "        # Reset turn \n",
    "        dub_counter = 0 \n",
    "        dice_one = 0 \n",
    "        dice_two = 0\n",
    "        roll_score = 0 \n",
    "        roll_counter = 0 \n",
    "\n",
    "        while roll_counter < 1: \n",
    "\n",
    "            # Roll dice\n",
    "            dice_one = roll_dice()\n",
    "            dice_two = roll_dice()\n",
    "\n",
    "            # Doubles or not\n",
    "            if dice_one == dice_two:\n",
    "                if (dice_one == 1 and dice_two == 1): #redundant but w/e\n",
    "                    if total_score == 0:\n",
    "                        total_score = -50\n",
    "                        roll_counter += 1\n",
    "                    else: \n",
    "                        total_score = 0\n",
    "                        roll_counter += 1\n",
    "                else: # do not increment roll_counter\n",
    "                    dub_counter += 1\n",
    "                    roll_score = roll_score + (dice_one + dice_two) * 2\n",
    "                    if dub_counter == 3: #unless it's your third double \n",
    "                        total_score = 0\n",
    "                        roll_counter += 1\n",
    "            elif (dice_one == 1 or dice_two == 1):\n",
    "                roll_score = 0\n",
    "                roll_counter += 1\n",
    "            else: \n",
    "                roll_score = roll_score + (dice_one + dice_two) #if you rolled roll_score not 0\n",
    "                roll_counter += 1\n",
    "\n",
    "        turn_counter += 1\n",
    "        total_score += roll_score \n",
    "        \n",
    "        # 100 and 3 doubles check\n",
    "        if total_score == 100:\n",
    "            total_score = 0\n",
    "            turn_counter += 1\n",
    "\n",
    "    return(turn_counter)"
   ]
  },
  {
   "cell_type": "code",
   "execution_count": 10,
   "metadata": {
    "ExecuteTime": {
     "end_time": "2019-06-29T15:05:18.181600Z",
     "start_time": "2019-06-29T15:05:08.271772Z"
    }
   },
   "outputs": [
    {
     "data": {
      "image/png": "[encoded data removed]",
      "text/plain": [
       "<matplotlib.figure.Figure at 0x1a12f390b8>"
      ]
     },
     "metadata": {},
     "output_type": "display_data"
    }
   ],
   "source": [
    "one_roll_games = []\n",
    "\n",
    "# Simulate 100,000 tosses\n",
    "for i in range(100000):\n",
    "    one_roll_games.append(one_roll_sim())\n",
    "\n",
    "plot_distribution(one_roll_games, 'Turns Needed to Win on one Roll per Turn')\n"
   ]
  },
  {
   "cell_type": "code",
   "execution_count": 15,
   "metadata": {
    "ExecuteTime": {
     "end_time": "2019-06-29T15:18:37.248599Z",
     "start_time": "2019-06-29T15:18:37.170251Z"
    }
   },
   "outputs": [
    {
     "data": {
      "text/plain": [
       "2.863"
      ]
     },
     "execution_count": 15,
     "metadata": {},
     "output_type": "execute_result"
    }
   ],
   "source": [
    "statistics.mean(one_roll_games)\n",
    "prob_below(one_roll_games, 6)\n",
    "prob_below(one_roll_games, 10)\n"
   ]
  },
  {
   "cell_type": "code",
   "execution_count": 80,
   "metadata": {
    "ExecuteTime": {
     "end_time": "2019-06-27T00:36:21.519779Z",
     "start_time": "2019-06-27T00:36:21.438062Z"
    },
    "scrolled": true
   },
   "outputs": [
    {
     "data": {
      "text/html": [
       "<div>\n",
       "<style scoped>\n",
       "    .dataframe tbody tr th:only-of-type {\n",
       "        vertical-align: middle;\n",
       "    }\n",
       "\n",
       "    .dataframe tbody tr th {\n",
       "        vertical-align: top;\n",
       "    }\n",
       "\n",
       "    .dataframe thead th {\n",
       "        text-align: right;\n",
       "    }\n",
       "</style>\n",
       "<table border=\"1\" class=\"dataframe\">\n",
       "  <thead>\n",
       "    <tr style=\"text-align: right;\">\n",
       "      <th></th>\n",
       "      <th>score</th>\n",
       "      <th>count</th>\n",
       "      <th>freq</th>\n",
       "    </tr>\n",
       "  </thead>\n",
       "  <tbody>\n",
       "    <tr>\n",
       "      <th>6</th>\n",
       "      <td>20</td>\n",
       "      <td>60414</td>\n",
       "      <td>0.060414</td>\n",
       "    </tr>\n",
       "    <tr>\n",
       "      <th>9</th>\n",
       "      <td>19</td>\n",
       "      <td>59312</td>\n",
       "      <td>0.059312</td>\n",
       "    </tr>\n",
       "    <tr>\n",
       "      <th>24</th>\n",
       "      <td>21</td>\n",
       "      <td>55639</td>\n",
       "      <td>0.055639</td>\n",
       "    </tr>\n",
       "    <tr>\n",
       "      <th>11</th>\n",
       "      <td>18</td>\n",
       "      <td>54241</td>\n",
       "      <td>0.054241</td>\n",
       "    </tr>\n",
       "    <tr>\n",
       "      <th>2</th>\n",
       "      <td>22</td>\n",
       "      <td>48651</td>\n",
       "      <td>0.048651</td>\n",
       "    </tr>\n",
       "    <tr>\n",
       "      <th>4</th>\n",
       "      <td>17</td>\n",
       "      <td>43520</td>\n",
       "      <td>0.043520</td>\n",
       "    </tr>\n",
       "    <tr>\n",
       "      <th>8</th>\n",
       "      <td>23</td>\n",
       "      <td>41514</td>\n",
       "      <td>0.041514</td>\n",
       "    </tr>\n",
       "    <tr>\n",
       "      <th>0</th>\n",
       "      <td>24</td>\n",
       "      <td>34758</td>\n",
       "      <td>0.034758</td>\n",
       "    </tr>\n",
       "    <tr>\n",
       "      <th>21</th>\n",
       "      <td>16</td>\n",
       "      <td>29666</td>\n",
       "      <td>0.029666</td>\n",
       "    </tr>\n",
       "    <tr>\n",
       "      <th>18</th>\n",
       "      <td>25</td>\n",
       "      <td>28999</td>\n",
       "      <td>0.028999</td>\n",
       "    </tr>\n",
       "    <tr>\n",
       "      <th>5</th>\n",
       "      <td>26</td>\n",
       "      <td>24853</td>\n",
       "      <td>0.024853</td>\n",
       "    </tr>\n",
       "    <tr>\n",
       "      <th>16</th>\n",
       "      <td>27</td>\n",
       "      <td>21894</td>\n",
       "      <td>0.021894</td>\n",
       "    </tr>\n",
       "    <tr>\n",
       "      <th>26</th>\n",
       "      <td>28</td>\n",
       "      <td>19986</td>\n",
       "      <td>0.019986</td>\n",
       "    </tr>\n",
       "    <tr>\n",
       "      <th>36</th>\n",
       "      <td>29</td>\n",
       "      <td>18662</td>\n",
       "      <td>0.018662</td>\n",
       "    </tr>\n",
       "    <tr>\n",
       "      <th>56</th>\n",
       "      <td>30</td>\n",
       "      <td>18070</td>\n",
       "      <td>0.018070</td>\n",
       "    </tr>\n",
       "    <tr>\n",
       "      <th>34</th>\n",
       "      <td>31</td>\n",
       "      <td>17361</td>\n",
       "      <td>0.017361</td>\n",
       "    </tr>\n",
       "    <tr>\n",
       "      <th>30</th>\n",
       "      <td>32</td>\n",
       "      <td>17030</td>\n",
       "      <td>0.017030</td>\n",
       "    </tr>\n",
       "    <tr>\n",
       "      <th>12</th>\n",
       "      <td>33</td>\n",
       "      <td>16620</td>\n",
       "      <td>0.016620</td>\n",
       "    </tr>\n",
       "    <tr>\n",
       "      <th>28</th>\n",
       "      <td>34</td>\n",
       "      <td>16614</td>\n",
       "      <td>0.016614</td>\n",
       "    </tr>\n",
       "    <tr>\n",
       "      <th>53</th>\n",
       "      <td>35</td>\n",
       "      <td>16442</td>\n",
       "      <td>0.016442</td>\n",
       "    </tr>\n",
       "    <tr>\n",
       "      <th>49</th>\n",
       "      <td>36</td>\n",
       "      <td>16185</td>\n",
       "      <td>0.016185</td>\n",
       "    </tr>\n",
       "    <tr>\n",
       "      <th>15</th>\n",
       "      <td>37</td>\n",
       "      <td>15917</td>\n",
       "      <td>0.015917</td>\n",
       "    </tr>\n",
       "    <tr>\n",
       "      <th>39</th>\n",
       "      <td>15</td>\n",
       "      <td>15797</td>\n",
       "      <td>0.015797</td>\n",
       "    </tr>\n",
       "    <tr>\n",
       "      <th>47</th>\n",
       "      <td>38</td>\n",
       "      <td>15454</td>\n",
       "      <td>0.015454</td>\n",
       "    </tr>\n",
       "    <tr>\n",
       "      <th>29</th>\n",
       "      <td>39</td>\n",
       "      <td>14874</td>\n",
       "      <td>0.014874</td>\n",
       "    </tr>\n",
       "    <tr>\n",
       "      <th>41</th>\n",
       "      <td>40</td>\n",
       "      <td>14162</td>\n",
       "      <td>0.014162</td>\n",
       "    </tr>\n",
       "    <tr>\n",
       "      <th>50</th>\n",
       "      <td>41</td>\n",
       "      <td>13170</td>\n",
       "      <td>0.013170</td>\n",
       "    </tr>\n",
       "    <tr>\n",
       "      <th>10</th>\n",
       "      <td>42</td>\n",
       "      <td>12266</td>\n",
       "      <td>0.012266</td>\n",
       "    </tr>\n",
       "    <tr>\n",
       "      <th>7</th>\n",
       "      <td>43</td>\n",
       "      <td>11451</td>\n",
       "      <td>0.011451</td>\n",
       "    </tr>\n",
       "    <tr>\n",
       "      <th>51</th>\n",
       "      <td>44</td>\n",
       "      <td>10990</td>\n",
       "      <td>0.010990</td>\n",
       "    </tr>\n",
       "    <tr>\n",
       "      <th>...</th>\n",
       "      <td>...</td>\n",
       "      <td>...</td>\n",
       "      <td>...</td>\n",
       "    </tr>\n",
       "    <tr>\n",
       "      <th>213</th>\n",
       "      <td>208</td>\n",
       "      <td>3</td>\n",
       "      <td>0.000003</td>\n",
       "    </tr>\n",
       "    <tr>\n",
       "      <th>228</th>\n",
       "      <td>212</td>\n",
       "      <td>3</td>\n",
       "      <td>0.000003</td>\n",
       "    </tr>\n",
       "    <tr>\n",
       "      <th>142</th>\n",
       "      <td>220</td>\n",
       "      <td>3</td>\n",
       "      <td>0.000003</td>\n",
       "    </tr>\n",
       "    <tr>\n",
       "      <th>168</th>\n",
       "      <td>290</td>\n",
       "      <td>2</td>\n",
       "      <td>0.000002</td>\n",
       "    </tr>\n",
       "    <tr>\n",
       "      <th>222</th>\n",
       "      <td>232</td>\n",
       "      <td>2</td>\n",
       "      <td>0.000002</td>\n",
       "    </tr>\n",
       "    <tr>\n",
       "      <th>206</th>\n",
       "      <td>217</td>\n",
       "      <td>2</td>\n",
       "      <td>0.000002</td>\n",
       "    </tr>\n",
       "    <tr>\n",
       "      <th>230</th>\n",
       "      <td>209</td>\n",
       "      <td>2</td>\n",
       "      <td>0.000002</td>\n",
       "    </tr>\n",
       "    <tr>\n",
       "      <th>108</th>\n",
       "      <td>204</td>\n",
       "      <td>2</td>\n",
       "      <td>0.000002</td>\n",
       "    </tr>\n",
       "    <tr>\n",
       "      <th>199</th>\n",
       "      <td>213</td>\n",
       "      <td>2</td>\n",
       "      <td>0.000002</td>\n",
       "    </tr>\n",
       "    <tr>\n",
       "      <th>227</th>\n",
       "      <td>237</td>\n",
       "      <td>1</td>\n",
       "      <td>0.000001</td>\n",
       "    </tr>\n",
       "    <tr>\n",
       "      <th>226</th>\n",
       "      <td>207</td>\n",
       "      <td>1</td>\n",
       "      <td>0.000001</td>\n",
       "    </tr>\n",
       "    <tr>\n",
       "      <th>229</th>\n",
       "      <td>241</td>\n",
       "      <td>1</td>\n",
       "      <td>0.000001</td>\n",
       "    </tr>\n",
       "    <tr>\n",
       "      <th>224</th>\n",
       "      <td>214</td>\n",
       "      <td>1</td>\n",
       "      <td>0.000001</td>\n",
       "    </tr>\n",
       "    <tr>\n",
       "      <th>231</th>\n",
       "      <td>231</td>\n",
       "      <td>1</td>\n",
       "      <td>0.000001</td>\n",
       "    </tr>\n",
       "    <tr>\n",
       "      <th>232</th>\n",
       "      <td>6</td>\n",
       "      <td>1</td>\n",
       "      <td>0.000001</td>\n",
       "    </tr>\n",
       "    <tr>\n",
       "      <th>234</th>\n",
       "      <td>215</td>\n",
       "      <td>1</td>\n",
       "      <td>0.000001</td>\n",
       "    </tr>\n",
       "    <tr>\n",
       "      <th>196</th>\n",
       "      <td>235</td>\n",
       "      <td>1</td>\n",
       "      <td>0.000001</td>\n",
       "    </tr>\n",
       "    <tr>\n",
       "      <th>220</th>\n",
       "      <td>228</td>\n",
       "      <td>1</td>\n",
       "      <td>0.000001</td>\n",
       "    </tr>\n",
       "    <tr>\n",
       "      <th>214</th>\n",
       "      <td>234</td>\n",
       "      <td>1</td>\n",
       "      <td>0.000001</td>\n",
       "    </tr>\n",
       "    <tr>\n",
       "      <th>212</th>\n",
       "      <td>236</td>\n",
       "      <td>1</td>\n",
       "      <td>0.000001</td>\n",
       "    </tr>\n",
       "    <tr>\n",
       "      <th>211</th>\n",
       "      <td>253</td>\n",
       "      <td>1</td>\n",
       "      <td>0.000001</td>\n",
       "    </tr>\n",
       "    <tr>\n",
       "      <th>160</th>\n",
       "      <td>9</td>\n",
       "      <td>1</td>\n",
       "      <td>0.000001</td>\n",
       "    </tr>\n",
       "    <tr>\n",
       "      <th>209</th>\n",
       "      <td>229</td>\n",
       "      <td>1</td>\n",
       "      <td>0.000001</td>\n",
       "    </tr>\n",
       "    <tr>\n",
       "      <th>172</th>\n",
       "      <td>3</td>\n",
       "      <td>1</td>\n",
       "      <td>0.000001</td>\n",
       "    </tr>\n",
       "    <tr>\n",
       "      <th>205</th>\n",
       "      <td>249</td>\n",
       "      <td>1</td>\n",
       "      <td>0.000001</td>\n",
       "    </tr>\n",
       "    <tr>\n",
       "      <th>204</th>\n",
       "      <td>7</td>\n",
       "      <td>1</td>\n",
       "      <td>0.000001</td>\n",
       "    </tr>\n",
       "    <tr>\n",
       "      <th>177</th>\n",
       "      <td>251</td>\n",
       "      <td>1</td>\n",
       "      <td>0.000001</td>\n",
       "    </tr>\n",
       "    <tr>\n",
       "      <th>189</th>\n",
       "      <td>246</td>\n",
       "      <td>1</td>\n",
       "      <td>0.000001</td>\n",
       "    </tr>\n",
       "    <tr>\n",
       "      <th>190</th>\n",
       "      <td>226</td>\n",
       "      <td>1</td>\n",
       "      <td>0.000001</td>\n",
       "    </tr>\n",
       "    <tr>\n",
       "      <th>235</th>\n",
       "      <td>243</td>\n",
       "      <td>1</td>\n",
       "      <td>0.000001</td>\n",
       "    </tr>\n",
       "  </tbody>\n",
       "</table>\n",
       "<p>236 rows × 3 columns</p>\n",
       "</div>"
      ],
      "text/plain": [
       "     score  count      freq\n",
       "6       20  60414  0.060414\n",
       "9       19  59312  0.059312\n",
       "24      21  55639  0.055639\n",
       "11      18  54241  0.054241\n",
       "2       22  48651  0.048651\n",
       "4       17  43520  0.043520\n",
       "8       23  41514  0.041514\n",
       "0       24  34758  0.034758\n",
       "21      16  29666  0.029666\n",
       "18      25  28999  0.028999\n",
       "5       26  24853  0.024853\n",
       "16      27  21894  0.021894\n",
       "26      28  19986  0.019986\n",
       "36      29  18662  0.018662\n",
       "56      30  18070  0.018070\n",
       "34      31  17361  0.017361\n",
       "30      32  17030  0.017030\n",
       "12      33  16620  0.016620\n",
       "28      34  16614  0.016614\n",
       "53      35  16442  0.016442\n",
       "49      36  16185  0.016185\n",
       "15      37  15917  0.015917\n",
       "39      15  15797  0.015797\n",
       "47      38  15454  0.015454\n",
       "29      39  14874  0.014874\n",
       "41      40  14162  0.014162\n",
       "50      41  13170  0.013170\n",
       "10      42  12266  0.012266\n",
       "7       43  11451  0.011451\n",
       "51      44  10990  0.010990\n",
       "..     ...    ...       ...\n",
       "213    208      3  0.000003\n",
       "228    212      3  0.000003\n",
       "142    220      3  0.000003\n",
       "168    290      2  0.000002\n",
       "222    232      2  0.000002\n",
       "206    217      2  0.000002\n",
       "230    209      2  0.000002\n",
       "108    204      2  0.000002\n",
       "199    213      2  0.000002\n",
       "227    237      1  0.000001\n",
       "226    207      1  0.000001\n",
       "229    241      1  0.000001\n",
       "224    214      1  0.000001\n",
       "231    231      1  0.000001\n",
       "232      6      1  0.000001\n",
       "234    215      1  0.000001\n",
       "196    235      1  0.000001\n",
       "220    228      1  0.000001\n",
       "214    234      1  0.000001\n",
       "212    236      1  0.000001\n",
       "211    253      1  0.000001\n",
       "160      9      1  0.000001\n",
       "209    229      1  0.000001\n",
       "172      3      1  0.000001\n",
       "205    249      1  0.000001\n",
       "204      7      1  0.000001\n",
       "177    251      1  0.000001\n",
       "189    246      1  0.000001\n",
       "190    226      1  0.000001\n",
       "235    243      1  0.000001\n",
       "\n",
       "[236 rows x 3 columns]"
      ]
     },
     "execution_count": 80,
     "metadata": {},
     "output_type": "execute_result"
    }
   ],
   "source": [
    "# Get counts of each score\n",
    "ctr = collections.Counter(one_roll_games)\n",
    "keys = [i for i in ctr.keys()]\n",
    "values = [i for i in ctr.values()]\n",
    "\n",
    "# Throw into df\n",
    "df = pd.DataFrame({'score': keys, 'count': values}, index=range(len(ctr)))\n",
    "df['freq'] = df['count'] / len(games)\n",
    "\n",
    "# Sort and show\n",
    "df = df.sort_values(by=['freq'], ascending = False)\n",
    "df[['score', 'count', 'freq']]"
   ]
  },
  {
   "cell_type": "code",
   "execution_count": 88,
   "metadata": {
    "ExecuteTime": {
     "end_time": "2019-06-27T00:45:17.686348Z",
     "start_time": "2019-06-27T00:45:17.599782Z"
    }
   },
   "outputs": [
    {
     "data": {
      "text/plain": [
       "32.74618"
      ]
     },
     "execution_count": 88,
     "metadata": {},
     "output_type": "execute_result"
    }
   ],
   "source": [
    "statistics.mean(one_roll_games)\n",
    "#min(one_roll_games)"
   ]
  },
  {
   "cell_type": "markdown",
   "metadata": {
    "ExecuteTime": {
     "end_time": "2019-06-27T00:30:25.539725Z",
     "start_time": "2019-06-27T00:30:25.536508Z"
    }
   },
   "source": [
    "### Multi-Toss Turns"
   ]
  },
  {
   "cell_type": "code",
   "execution_count": 29,
   "metadata": {
    "ExecuteTime": {
     "end_time": "2019-06-29T15:37:21.263650Z",
     "start_time": "2019-06-29T15:37:21.173025Z"
    },
    "collapsed": true
   },
   "outputs": [],
   "source": [
    "def multi_roll_turn(n):\n",
    "    total_score = 0 \n",
    "    dub_counter = 0\n",
    "    roll_score = 0\n",
    "    dice_one = 0\n",
    "    dice_two = 0\n",
    "    roll_counter = 0\n",
    "    turn_counter = 1\n",
    "    dub_flag = False\n",
    "    \n",
    "    while total_score < 100:\n",
    "\n",
    "        # Reset turn \n",
    "        dub_counter = 0 \n",
    "        dice_one = 0 \n",
    "        dice_two = 0\n",
    "        roll_score = 0 \n",
    "        roll_counter = 0 \n",
    "\n",
    "        while roll_counter < n or dub_flag == True: \n",
    "            \n",
    "            # Reset dub_flag\n",
    "            dub_flag= False \n",
    "            \n",
    "            # Roll dice\n",
    "            dice_one = roll_dice()\n",
    "            dice_two = roll_dice()\n",
    "\n",
    "            # Doubles or not\n",
    "            if dice_one == dice_two:\n",
    "                if (dice_one == 1 and dice_two == 1): #redundant but w/e\n",
    "                    if total_score == 0:\n",
    "                        roll_score = 0\n",
    "                        total_score = -50\n",
    "                        roll_counter = n\n",
    "                    else: \n",
    "                        roll_score = 0\n",
    "                        total_score = 0\n",
    "                        roll_counter = n\n",
    "                else: \n",
    "                    dub_counter += 1\n",
    "                    roll_counter += 1 \n",
    "\n",
    "                    if roll_counter == n: # you have to roll again on doubles \n",
    "                        roll_counter -= 1 \n",
    "\n",
    "                    roll_score = roll_score + (dice_one + dice_two) * 2\n",
    "                    if dub_counter == 3: # wipe turn if 3rd double  \n",
    "                        total_score = 0\n",
    "                        roll_counter = n\n",
    "            elif (dice_one == 1 or dice_two == 1):\n",
    "                roll_score = 0\n",
    "                roll_counter = n\n",
    "            else: \n",
    "                roll_score = roll_score + (dice_one + dice_two) \n",
    "                roll_counter += 1\n",
    "\n",
    "        turn_counter += 1\n",
    "        total_score += roll_score \n",
    "\n",
    "        # 100 and 3 doubles check\n",
    "        if total_score == 100:\n",
    "            total_score = 0\n",
    "            turn_counter += 1\n",
    "    \n",
    "    return (turn_counter)\n"
   ]
  },
  {
   "cell_type": "markdown",
   "metadata": {},
   "source": [
    "## Multi Roll Turn with better dub logic "
   ]
  },
  {
   "cell_type": "code",
   "execution_count": 24,
   "metadata": {
    "ExecuteTime": {
     "end_time": "2019-07-13T23:47:36.365427Z",
     "start_time": "2019-07-13T23:47:36.231964Z"
    },
    "collapsed": true
   },
   "outputs": [],
   "source": [
    "def multi_roll_turn(n):\n",
    "    total_score = 0 \n",
    "    dub_counter = 0\n",
    "    roll_score = 0\n",
    "    dice_one = 0\n",
    "    dice_two = 0\n",
    "    roll_counter = 0\n",
    "    turn_counter = 1\n",
    "    dub_flag = False\n",
    "    \n",
    "    while total_score < 100:\n",
    "\n",
    "        # Reset turn \n",
    "        dub_counter = 0 \n",
    "        dice_one = 0 \n",
    "        dice_two = 0\n",
    "        roll_score = 0 \n",
    "        roll_counter = 0 \n",
    "        dub_flag = False \n",
    "\n",
    "        while roll_counter < n or dub_flag == True: \n",
    "            \n",
    "            # Checks for roll_score + total score  \n",
    "            if roll_score + total_score == 100: \n",
    "                break\n",
    "            \n",
    "            if (roll_score + total_score > 100) and (dub_flag == False): \n",
    "                break \n",
    "            \n",
    "            # Reset dub_flag\n",
    "            dub_flag= False \n",
    "            \n",
    "            # Roll dice\n",
    "            dice_one = roll_dice()\n",
    "            dice_two = roll_dice()\n",
    "\n",
    "            # Doubles or not\n",
    "            if dice_one == dice_two:\n",
    "                if (dice_one == 1 and dice_two == 1): #redundant but w/e\n",
    "                    if total_score == 0:\n",
    "                        roll_score = 0\n",
    "                        total_score = -50\n",
    "                        break\n",
    "                    else: \n",
    "                        roll_score = 0\n",
    "                        total_score = 0\n",
    "                        break\n",
    "                else: \n",
    "                    dub_flag = True\n",
    "                    dub_counter += 1\n",
    "                    roll_counter += 1 \n",
    "\n",
    "                    if roll_counter == n: # you have to roll again on doubles \n",
    "                        roll_counter -= 1 \n",
    "\n",
    "                    roll_score = roll_score + (dice_one + dice_two) * 2\n",
    "                    \n",
    "                    if dub_counter == 3: # wipe turn if 3rd double  \n",
    "                        total_score = 0\n",
    "                        roll_score = 0\n",
    "                        break\n",
    "                        \n",
    "            elif (dice_one == 1 or dice_two == 1):\n",
    "                roll_score = 0\n",
    "                break\n",
    "            else: \n",
    "                roll_score = roll_score + (dice_one + dice_two) \n",
    "                roll_counter += 1\n",
    "\n",
    "        turn_counter += 1\n",
    "        total_score += roll_score \n",
    "\n",
    "        # 100 and 3 doubles check\n",
    "        if total_score == 100:\n",
    "            total_score = 0\n",
    "            turn_counter += 1\n",
    "    \n",
    "    return (turn_counter)\n"
   ]
  },
  {
   "cell_type": "code",
   "execution_count": 25,
   "metadata": {
    "ExecuteTime": {
     "end_time": "2019-07-13T23:48:01.127994Z",
     "start_time": "2019-07-13T23:47:47.728458Z"
    }
   },
   "outputs": [
    {
     "data": {
      "image/png": "[encoded data removed]",
      "text/plain": [
       "<matplotlib.figure.Figure at 0x1a0a9facc0>"
      ]
     },
     "metadata": {},
     "output_type": "display_data"
    },
    {
     "data": {
      "text/plain": [
       "19.9704"
      ]
     },
     "execution_count": 25,
     "metadata": {},
     "output_type": "execute_result"
    }
   ],
   "source": [
    "multi_roll_games = []\n",
    "\n",
    "# Simulate 100,000 tosses\n",
    "for i in range(100000):\n",
    "    multi_roll_games.append(multi_roll_turn(2))\n",
    "\n",
    "# Plot \n",
    "plot_distribution(multi_roll_games, \n",
    "                  'Turns Needed to Win on 2 Rolls per Turn')\n",
    "\n",
    "# Mean\n",
    "statistics.mean(multi_roll_games)"
   ]
  },
  {
   "cell_type": "code",
   "execution_count": 30,
   "metadata": {
    "ExecuteTime": {
     "end_time": "2019-07-13T23:48:30.037609Z",
     "start_time": "2019-07-13T23:48:12.393031Z"
    }
   },
   "outputs": [
    {
     "data": {
      "image/png": "[encoded data removed]",
      "text/plain": [
       "<matplotlib.figure.Figure at 0x1a0abd2b70>"
      ]
     },
     "metadata": {},
     "output_type": "display_data"
    },
    {
     "data": {
      "text/plain": [
       "20.47273"
      ]
     },
     "execution_count": 30,
     "metadata": {},
     "output_type": "execute_result"
    }
   ],
   "source": [
    "multi_roll_games = []\n",
    "\n",
    "# Simulate 100,000 tosses\n",
    "for i in range(100000):\n",
    "    multi_roll_games.append(multi_roll_turn(3))\n",
    "    \n",
    "# Plot\n",
    "plot_distribution(multi_roll_games, \n",
    "                  'Turns Needed to Win on 3 Rolls per Turn')\n",
    "\n",
    "# Mean\n",
    "statistics.mean(multi_roll_games)"
   ]
  },
  {
   "cell_type": "code",
   "execution_count": 31,
   "metadata": {
    "ExecuteTime": {
     "end_time": "2019-07-13T23:48:52.721418Z",
     "start_time": "2019-07-13T23:48:30.266803Z"
    }
   },
   "outputs": [
    {
     "data": {
      "image/png": "[encoded data removed]",
      "text/plain": [
       "<matplotlib.figure.Figure at 0x1a0b1df940>"
      ]
     },
     "metadata": {},
     "output_type": "display_data"
    },
    {
     "data": {
      "text/plain": [
       "23.43704"
      ]
     },
     "execution_count": 31,
     "metadata": {},
     "output_type": "execute_result"
    }
   ],
   "source": [
    "multi_roll_games = []\n",
    "\n",
    "# Simulate 100,000 tosses\n",
    "for i in range(100000):\n",
    "    multi_roll_games.append(multi_roll_turn(4))\n",
    "    \n",
    "# Plot\n",
    "plot_distribution(multi_roll_games, \n",
    "                  'Turns Needed to Win on 4 Rolls per Turn')\n",
    "\n",
    "# Mean\n",
    "statistics.mean(multi_roll_games)"
   ]
  },
  {
   "cell_type": "code",
   "execution_count": 32,
   "metadata": {
    "ExecuteTime": {
     "end_time": "2019-07-13T23:49:25.726041Z",
     "start_time": "2019-07-13T23:48:52.741225Z"
    }
   },
   "outputs": [
    {
     "data": {
      "image/png": "[encoded data removed]",
      "text/plain": [
       "<matplotlib.figure.Figure at 0x1a0b1df358>"
      ]
     },
     "metadata": {},
     "output_type": "display_data"
    },
    {
     "data": {
      "text/plain": [
       "28.65999"
      ]
     },
     "execution_count": 32,
     "metadata": {},
     "output_type": "execute_result"
    }
   ],
   "source": [
    "multi_roll_games = []\n",
    "\n",
    "# Simulate 100,000 tosses\n",
    "for i in range(100000):\n",
    "    multi_roll_games.append(multi_roll_turn(5))\n",
    "    \n",
    "# Plot \n",
    "plot_distribution(multi_roll_games, \n",
    "                  'Turns Needed to Win on 5 Rolls per Turn')\n",
    "\n",
    "# Mean\n",
    "statistics.mean(multi_roll_games)"
   ]
  },
  {
   "cell_type": "code",
   "execution_count": 38,
   "metadata": {
    "ExecuteTime": {
     "end_time": "2019-07-14T00:06:43.543113Z",
     "start_time": "2019-07-14T00:05:52.225395Z"
    }
   },
   "outputs": [
    {
     "data": {
      "image/png": "[encoded data removed]",
      "text/plain": [
       "<matplotlib.figure.Figure at 0x1a0aac16d8>"
      ]
     },
     "metadata": {},
     "output_type": "display_data"
    },
    {
     "data": {
      "text/plain": [
       "43.3756"
      ]
     },
     "execution_count": 38,
     "metadata": {},
     "output_type": "execute_result"
    }
   ],
   "source": [
    "multi_roll_games = []\n",
    "\n",
    "# Simulate 100,000 tosses\n",
    "for i in range(100000):\n",
    "    multi_roll_games.append(multi_roll_turn(7))\n",
    "\n",
    "plot_distribution(multi_roll_games, \n",
    "                  \"Turns Needed to Win on 6 Rolls per Turn\")\n",
    "\n",
    "\n",
    "statistics.mean(multi_roll_games)"
   ]
  },
  {
   "cell_type": "markdown",
   "metadata": {},
   "source": [
    "## Multi Roll Turns 2 to 10"
   ]
  },
  {
   "cell_type": "code",
   "execution_count": 34,
   "metadata": {
    "ExecuteTime": {
     "end_time": "2019-07-13T23:58:03.931747Z",
     "start_time": "2019-07-13T23:50:07.532619Z"
    }
   },
   "outputs": [
    {
     "data": {
      "text/plain": [
       "[19.9418,\n",
       " 20.54557,\n",
       " 23.52648,\n",
       " 28.69847,\n",
       " 35.68768,\n",
       " 43.45205,\n",
       " 56.58312,\n",
       " 75.4885,\n",
       " 100.16932]"
      ]
     },
     "execution_count": 34,
     "metadata": {},
     "output_type": "execute_result"
    }
   ],
   "source": [
    "mean_container = []\n",
    "\n",
    "\n",
    "for n in range(2,11):\n",
    "    \n",
    "    game_container = []\n",
    "    \n",
    "    for i in range(100000):\n",
    "        game_container.append(multi_roll_turn(n))\n",
    "    \n",
    "    mean_container.append(statistics.mean(game_container))\n",
    "\n",
    "    \n",
    "mean_container\n",
    "        \n",
    "        "
   ]
  },
  {
   "cell_type": "code",
   "execution_count": 35,
   "metadata": {
    "ExecuteTime": {
     "end_time": "2019-07-13T23:58:04.129785Z",
     "start_time": "2019-07-13T23:58:03.961209Z"
    },
    "scrolled": true
   },
   "outputs": [
    {
     "data": {
      "image/png": "[encoded data removed]",
      "text/plain": [
       "<matplotlib.figure.Figure at 0x1a0a7e9278>"
      ]
     },
     "metadata": {},
     "output_type": "display_data"
    }
   ],
   "source": [
    "plt.plot(range(2,11), mean_container, color = 'black')\n",
    "plt.title(\"Average Number of Turns to Win\", fontsize = 14)\n",
    "plt.xlabel(\"Number of Rolls Per Turn\", fontsize=12)\n",
    "plt.ylabel(\"Avg. Number of Turns\", fontsize=12)\n",
    "plt.show()"
   ]
  },
  {
   "cell_type": "markdown",
   "metadata": {},
   "source": [
    "If you're following the strategy where you just roll n times per turn no matter what, the optimal number of rolls is 2. It has the lowest average number of turns to win at 18.02, barely edging out 3 rolls per turn with 18.56. "
   ]
  },
  {
   "cell_type": "code",
   "execution_count": 232,
   "metadata": {
    "ExecuteTime": {
     "end_time": "2019-06-29T00:25:01.178257Z",
     "start_time": "2019-06-29T00:25:01.161707Z"
    }
   },
   "outputs": [
    {
     "data": {
      "text/plain": [
       "99.991"
      ]
     },
     "execution_count": 232,
     "metadata": {},
     "output_type": "execute_result"
    }
   ],
   "source": [
    "\n",
    "    "
   ]
  },
  {
   "cell_type": "code",
   "execution_count": 36,
   "metadata": {
    "ExecuteTime": {
     "end_time": "2019-07-14T00:05:51.797431Z",
     "start_time": "2019-07-13T23:58:04.162000Z"
    }
   },
   "outputs": [
    {
     "name": "stdout",
     "output_type": "stream",
     "text": [
      "2\n",
      "3\n",
      "4\n",
      "5\n",
      "6\n",
      "7\n",
      "8\n",
      "9\n",
      "10\n"
     ]
    }
   ],
   "source": [
    "meta_container = []\n",
    "\n",
    "\n",
    "for n in range(2,11):\n",
    "    game_container = []\n",
    "    \n",
    "    for i in range(100000):\n",
    "        game_container.append(multi_roll_turn(n))\n",
    "    \n",
    "    print(str(n))\n",
    "    meta_container.append(game_container)\n",
    "\n"
   ]
  },
  {
   "cell_type": "code",
   "execution_count": 37,
   "metadata": {
    "ExecuteTime": {
     "end_time": "2019-07-14T00:05:52.102254Z",
     "start_time": "2019-07-14T00:05:51.908148Z"
    }
   },
   "outputs": [
    {
     "data": {
      "image/png": "[encoded data removed]",
      "text/plain": [
       "<matplotlib.figure.Figure at 0x105192e80>"
      ]
     },
     "metadata": {},
     "output_type": "display_data"
    }
   ],
   "source": [
    "below_10_rolls = []\n",
    "\n",
    "for data in meta_container: \n",
    "    below_10_rolls.append(prob_below(data, 10))\n",
    "    \n",
    "plt.plot(range(2,11), below_10_rolls, color = 'black')\n",
    "plt.title(\"Percent of Games Won In Under 10 Turns\", fontsize = 14)\n",
    "plt.xlabel(\"Number of Rolls Per Turn\", fontsize=12)\n",
    "plt.ylabel(\"Percent\", fontsize=12)\n",
    "plt.show()"
   ]
  },
  {
   "cell_type": "code",
   "execution_count": 39,
   "metadata": {
    "ExecuteTime": {
     "end_time": "2019-07-14T00:07:44.935526Z",
     "start_time": "2019-07-14T00:07:44.753741Z"
    }
   },
   "outputs": [
    {
     "data": {
      "image/png": "[encoded data removed]",
      "text/plain": [
       "<matplotlib.figure.Figure at 0x1a0a7eab00>"
      ]
     },
     "metadata": {},
     "output_type": "display_data"
    }
   ],
   "source": [
    "below_5_rolls = []\n",
    "\n",
    "for data in meta_container: \n",
    "    below_5_rolls.append(prob_below(data, 5))\n",
    "    \n",
    "plt.plot(range(2,11), below_5_rolls, color = 'black')\n",
    "plt.title(\"Percent of Games Won In Under 5 Turns\", fontsize = 14)\n",
    "plt.xlabel(\"Number of Rolls Per Turn\", fontsize=12)\n",
    "plt.ylabel(\"Percent\", fontsize=12)\n",
    "plt.show()"
   ]
  },
  {
   "cell_type": "markdown",
   "metadata": {
    "collapsed": true
   },
   "source": [
    "## Turn Score Threshold Strategy "
   ]
  },
  {
   "cell_type": "code",
   "execution_count": 40,
   "metadata": {
    "ExecuteTime": {
     "end_time": "2019-07-14T00:09:49.433363Z",
     "start_time": "2019-07-14T00:09:49.303098Z"
    },
    "collapsed": true
   },
   "outputs": [],
   "source": [
    "def score_threshold(threshold):\n",
    "\n",
    "    total_score = 0 \n",
    "    dub_counter = 0\n",
    "    roll_score = 0\n",
    "    dice_one = 0\n",
    "    dice_two = 0\n",
    "    roll_counter = 0\n",
    "    turn_counter = 1\n",
    "    dub_flag = False\n",
    "\n",
    "    while total_score < 100:\n",
    "\n",
    "        # Reset turn \n",
    "        dub_counter = 0 \n",
    "        dice_one = 0 \n",
    "        dice_two = 0\n",
    "        roll_score = 0 \n",
    "        roll_counter = 0 \n",
    "\n",
    "        while roll_score < threshold or dub_flag == True: \n",
    "            \n",
    "            # Checks for roll_score + total score  \n",
    "            if roll_score + total_score == 100: \n",
    "                break\n",
    "            \n",
    "            if (roll_score + total_score > 100) and (dub_flag == False): \n",
    "                break \n",
    "            \n",
    "            # Reset Dub Flag\n",
    "            dub_flag = False \n",
    "\n",
    "            # Roll dice\n",
    "            dice_one = roll_dice()\n",
    "            dice_two = roll_dice()\n",
    "\n",
    "            # Doubles or not\n",
    "            if dice_one == dice_two:\n",
    "                if (dice_one == 1 and dice_two == 1): #redundant but w/e\n",
    "                    if total_score == 0:\n",
    "                        roll_score = 0\n",
    "                        total_score = -50\n",
    "                        break\n",
    "                        #dub_flag = False\n",
    "                    else: \n",
    "                        roll_score = 0\n",
    "                        total_score = 0\n",
    "                        break\n",
    "                        #dub_flag = False\n",
    "                else: \n",
    "                    dub_counter += 1\n",
    "                    dub_flag = True\n",
    "                    roll_counter += 1 \n",
    "\n",
    "                    roll_score = roll_score + (dice_one + dice_two) * 2\n",
    "\n",
    "                    if dub_counter == 3: # wipe turn if 3rd double  \n",
    "                        total_score = 0\n",
    "            elif (dice_one == 1 or dice_two == 1):\n",
    "                roll_score = 0\n",
    "                break\n",
    "            else: \n",
    "                roll_score = roll_score + (dice_one + dice_two) \n",
    "                dub_flag = False \n",
    "                \n",
    "                \n",
    "\n",
    "        turn_counter += 1\n",
    "        total_score += roll_score \n",
    "\n",
    "\n",
    "\n",
    "        # 100 and 3 doubles check\n",
    "        if total_score == 100:\n",
    "            total_score = 0\n",
    "            turn_counter += 1\n",
    "    \n",
    "    return(turn_counter)\n",
    "\n"
   ]
  },
  {
   "cell_type": "code",
   "execution_count": 46,
   "metadata": {
    "ExecuteTime": {
     "end_time": "2019-07-14T00:59:03.647015Z",
     "start_time": "2019-07-14T00:30:51.298781Z"
    }
   },
   "outputs": [
    {
     "name": "stdout",
     "output_type": "stream",
     "text": [
      "5 took this long: 0:00:10.148852\n",
      "6 took this long: 0:00:10.185365\n",
      "7 took this long: 0:00:10.481264\n",
      "8 took this long: 0:00:10.813541\n",
      "9 took this long: 0:00:11.160940\n",
      "10 took this long: 0:00:11.696660\n",
      "11 took this long: 0:00:11.893995\n",
      "12 took this long: 0:00:12.434846\n",
      "13 took this long: 0:00:12.698253\n",
      "14 took this long: 0:00:12.451630\n",
      "15 took this long: 0:00:12.704330\n",
      "16 took this long: 0:00:13.000861\n",
      "17 took this long: 0:00:13.467302\n",
      "18 took this long: 0:00:13.635400\n",
      "19 took this long: 0:00:14.032535\n",
      "20 took this long: 0:00:14.418084\n",
      "21 took this long: 0:00:14.676835\n",
      "22 took this long: 0:00:14.730342\n",
      "23 took this long: 0:00:15.092821\n",
      "24 took this long: 0:00:15.615358\n",
      "25 took this long: 0:00:15.560417\n",
      "26 took this long: 0:00:16.166298\n",
      "27 took this long: 0:00:16.843039\n",
      "28 took this long: 0:00:16.947418\n",
      "29 took this long: 0:00:17.582571\n",
      "30 took this long: 0:00:17.832841\n",
      "31 took this long: 0:00:18.198548\n",
      "32 took this long: 0:00:18.409914\n",
      "33 took this long: 0:00:18.820456\n",
      "34 took this long: 0:00:19.089900\n",
      "35 took this long: 0:00:19.815884\n",
      "36 took this long: 0:00:19.885217\n",
      "37 took this long: 0:00:20.318320\n",
      "38 took this long: 0:00:20.947134\n",
      "39 took this long: 0:00:21.358829\n",
      "40 took this long: 0:00:21.984528\n",
      "41 took this long: 0:00:23.025436\n",
      "42 took this long: 0:00:23.417764\n",
      "43 took this long: 0:00:24.097107\n",
      "44 took this long: 0:00:25.016361\n",
      "45 took this long: 0:00:25.820875\n",
      "46 took this long: 0:00:26.342154\n",
      "47 took this long: 0:00:26.938071\n",
      "48 took this long: 0:00:27.761165\n",
      "49 took this long: 0:00:28.436589\n",
      "50 took this long: 0:00:28.486620\n",
      "51 took this long: 0:00:28.797707\n",
      "52 took this long: 0:00:28.850120\n",
      "53 took this long: 0:00:29.337270\n",
      "54 took this long: 0:00:29.289212\n",
      "55 took this long: 0:00:30.012221\n",
      "56 took this long: 0:00:30.450064\n",
      "57 took this long: 0:00:30.652830\n",
      "58 took this long: 0:00:31.150174\n",
      "59 took this long: 0:00:31.880124\n",
      "60 took this long: 0:00:32.378234\n",
      "61 took this long: 0:00:32.780350\n",
      "62 took this long: 0:00:33.356373\n",
      "63 took this long: 0:00:33.935421\n",
      "64 took this long: 0:00:34.826253\n",
      "65 took this long: 0:00:38.324601\n",
      "66 took this long: 0:00:36.804037\n",
      "67 took this long: 0:00:36.697700\n",
      "68 took this long: 0:00:37.595734\n",
      "69 took this long: 0:00:38.648862\n",
      "70 took this long: 0:00:39.236983\n",
      "71 took this long: 0:00:40.778189\n",
      "72 took this long: 0:00:41.331483\n",
      "73 took this long: 0:00:42.378997\n",
      "74 took this long: 0:00:43.065357\n",
      "75 took this long: 0:00:45.314838\n"
     ]
    }
   ],
   "source": [
    "import datetime \n",
    "\n",
    "meta_container = []\n",
    "game_container = []\n",
    "\n",
    "base_time = datetime.datetime.now()\n",
    "\n",
    "for i in range(5, 76):\n",
    "    game_container = []\n",
    "    \n",
    "    for k in range(100000): \n",
    "        game_container.append(score_threshold(i))\n",
    "    \n",
    "    print(str(i) + \" took this long: \" + str(datetime.datetime.now() - base_time)) \n",
    "    \n",
    "    base_time = datetime.datetime.now()\n",
    "    \n",
    "    meta_container.append(game_container)\n",
    "    "
   ]
  },
  {
   "cell_type": "code",
   "execution_count": 7,
   "metadata": {
    "ExecuteTime": {
     "end_time": "2019-07-07T23:59:52.173273Z",
     "start_time": "2019-07-07T23:59:51.885901Z"
    }
   },
   "outputs": [
    {
     "name": "stdout",
     "output_type": "stream",
     "text": [
      "avg: 24.3002, below 10: 2.7199999999999998, below 5: 0.02\n",
      "avg: 23.459, below 10: 3.08, below 5: 0.02\n",
      "avg: 23.0422, below 10: 4.64, below 5: 0.0\n",
      "avg: 21.5294, below 10: 6.68, below 5: 0.08\n",
      "avg: 20.9054, below 10: 9.3, below 5: 0.1\n",
      "avg: 20.2158, below 10: 11.44, below 5: 0.12\n",
      "avg: 19.4552, below 10: 13.459999999999999, below 5: 0.12\n",
      "avg: 19.6558, below 10: 14.399999999999999, below 5: 0.18\n",
      "avg: 19.5224, below 10: 14.74, below 5: 0.18\n",
      "avg: 19.0792, below 10: 17.16, below 5: 0.18\n",
      "avg: 19.337, below 10: 16.78, below 5: 0.26\n",
      "avg: 19.0356, below 10: 17.919999999999998, below 5: 0.42\n",
      "avg: 19.3058, below 10: 17.86, below 5: 0.33999999999999997\n",
      "avg: 19.3588, below 10: 19.259999999999998, below 5: 0.48\n",
      "avg: 19.3678, below 10: 20.04, below 5: 0.5\n",
      "avg: 19.7038, below 10: 19.34, below 5: 0.48\n",
      "avg: 19.6748, below 10: 20.46, below 5: 0.66\n",
      "avg: 19.6946, below 10: 21.34, below 5: 0.8\n",
      "avg: 20.1618, below 10: 21.099999999999998, below 5: 0.88\n",
      "avg: 19.7288, below 10: 20.84, below 5: 0.8200000000000001\n",
      "avg: 20.1422, below 10: 21.46, below 5: 1.16\n",
      "avg: 20.149, below 10: 21.46, below 5: 1.04\n",
      "avg: 20.4606, below 10: 21.18, below 5: 1.28\n",
      "avg: 20.7124, below 10: 21.58, below 5: 1.52\n",
      "avg: 20.678, below 10: 21.8, below 5: 1.5599999999999998\n",
      "avg: 20.9574, below 10: 22.82, below 5: 1.44\n",
      "avg: 21.191, below 10: 21.44, below 5: 1.82\n",
      "avg: 21.8758, below 10: 21.18, below 5: 2.06\n",
      "avg: 21.6156, below 10: 22.5, below 5: 2.16\n",
      "avg: 22.011, below 10: 22.0, below 5: 1.92\n",
      "avg: 22.1842, below 10: 21.12, below 5: 2.22\n",
      "avg: 22.9162, below 10: 20.8, below 5: 2.04\n",
      "avg: 22.9066, below 10: 20.96, below 5: 2.54\n",
      "avg: 23.6852, below 10: 20.82, below 5: 2.76\n",
      "avg: 24.2152, below 10: 20.3, below 5: 2.22\n",
      "avg: 23.7412, below 10: 21.4, below 5: 2.74\n",
      "avg: 24.8134, below 10: 19.34, below 5: 2.52\n",
      "avg: 25.4424, below 10: 20.54, below 5: 2.96\n",
      "avg: 25.785, below 10: 18.82, below 5: 3.04\n",
      "avg: 26.4366, below 10: 20.080000000000002, below 5: 3.6799999999999997\n",
      "avg: 26.7566, below 10: 18.8, below 5: 3.0\n",
      "avg: 27.4738, below 10: 19.62, below 5: 3.2800000000000002\n",
      "avg: 28.522, below 10: 18.82, below 5: 2.98\n",
      "avg: 28.618, below 10: 19.3, below 5: 3.4799999999999995\n",
      "avg: 28.626, below 10: 19.56, below 5: 3.94\n",
      "avg: 28.5336, below 10: 20.02, below 5: 4.5\n",
      "avg: 29.2074, below 10: 19.18, below 5: 3.74\n",
      "avg: 29.5176, below 10: 19.16, below 5: 3.82\n",
      "avg: 29.8952, below 10: 18.96, below 5: 4.279999999999999\n",
      "avg: 29.8166, below 10: 19.08, below 5: 4.74\n",
      "avg: 29.9746, below 10: 19.42, below 5: 3.74\n",
      "avg: 30.622, below 10: 18.740000000000002, below 5: 3.74\n",
      "avg: 31.086, below 10: 18.02, below 5: 3.82\n",
      "avg: 30.9174, below 10: 17.4, below 5: 4.02\n",
      "avg: 31.666, below 10: 18.42, below 5: 3.84\n",
      "avg: 32.1322, below 10: 17.82, below 5: 3.9600000000000004\n",
      "avg: 31.9728, below 10: 18.44, below 5: 4.0\n",
      "avg: 33.1932, below 10: 19.06, below 5: 4.14\n",
      "avg: 33.5194, below 10: 17.78, below 5: 3.6999999999999997\n",
      "avg: 33.0628, below 10: 18.04, below 5: 4.14\n",
      "avg: 34.426, below 10: 17.919999999999998, below 5: 3.92\n",
      "avg: 36.0332, below 10: 16.900000000000002, below 5: 3.6799999999999997\n",
      "avg: 35.8224, below 10: 17.86, below 5: 4.18\n",
      "avg: 36.5422, below 10: 16.98, below 5: 3.74\n",
      "avg: 37.364, below 10: 16.3, below 5: 3.66\n",
      "avg: 37.385, below 10: 16.16, below 5: 3.46\n",
      "avg: 37.8314, below 10: 17.06, below 5: 3.94\n",
      "avg: 39.7304, below 10: 17.1, below 5: 4.279999999999999\n",
      "avg: 39.6906, below 10: 17.599999999999998, below 5: 4.46\n",
      "avg: 41.273, below 10: 17.04, below 5: 4.2\n",
      "avg: 41.076, below 10: 16.24, below 5: 4.06\n"
     ]
    }
   ],
   "source": [
    "# for i in meta_container:\n",
    "#     print(\"avg: \" + str(statistics.mean(i)) \n",
    "#                   + \", below 10: \" \n",
    "#                   + str(prob_below(i, 10))\n",
    "#                   + \", below 5: \"\n",
    "#                   + str(prob_below(i, 5))\n",
    "#          )\n",
    "    "
   ]
  },
  {
   "cell_type": "code",
   "execution_count": 47,
   "metadata": {
    "ExecuteTime": {
     "end_time": "2019-07-14T00:59:29.175532Z",
     "start_time": "2019-07-14T00:59:28.727596Z"
    }
   },
   "outputs": [
    {
     "data": {
      "image/png": "[encoded data removed]",
      "text/plain": [
       "<matplotlib.figure.Figure at 0x1a0afb36a0>"
      ]
     },
     "metadata": {},
     "output_type": "display_data"
    }
   ],
   "source": [
    "below_10_rolls = []\n",
    "\n",
    "for data in meta_container: \n",
    "    below_10_rolls.append(prob_below(data, 10))\n",
    "    \n",
    "plt.plot(range(5,76), below_10_rolls, color = 'black')\n",
    "plt.title(\"Percent of Games Won In Under 10 Turns\", fontsize = 14)\n",
    "plt.xlabel(\"Rolling Threshold ('Roll until you hit __')\", fontsize=12)\n",
    "plt.ylabel(\"Percent\", fontsize=12)\n",
    "plt.show()"
   ]
  },
  {
   "cell_type": "code",
   "execution_count": 48,
   "metadata": {
    "ExecuteTime": {
     "end_time": "2019-07-14T00:59:38.065505Z",
     "start_time": "2019-07-14T00:59:37.694546Z"
    }
   },
   "outputs": [
    {
     "data": {
      "image/png": "[encoded data removed]",
      "text/plain": [
       "<matplotlib.figure.Figure at 0x1a0abdecf8>"
      ]
     },
     "metadata": {},
     "output_type": "display_data"
    }
   ],
   "source": [
    "below_5_rolls = []\n",
    "\n",
    "for data in meta_container: \n",
    "    below_5_rolls.append(prob_below(data, 5))\n",
    "    \n",
    "plt.plot(range(5,76), below_5_rolls, color = 'black')\n",
    "plt.title(\"Percent of Games Won In Under 5 Turns\", fontsize = 14)\n",
    "plt.xlabel(\"Rolling Threshold ('Roll until you hit __')\", fontsize=12)\n",
    "plt.ylabel(\"Percent\", fontsize=12)\n",
    "plt.show()"
   ]
  },
  {
   "cell_type": "code",
   "execution_count": 49,
   "metadata": {
    "ExecuteTime": {
     "end_time": "2019-07-14T01:00:01.216895Z",
     "start_time": "2019-07-14T00:59:56.719649Z"
    }
   },
   "outputs": [
    {
     "data": {
      "image/png": "[encoded data removed]",
      "text/plain": [
       "<matplotlib.figure.Figure at 0x1a0a82c438>"
      ]
     },
     "metadata": {},
     "output_type": "display_data"
    }
   ],
   "source": [
    "mean_container = []\n",
    "\n",
    "for data in meta_container: \n",
    "    mean_container.append(statistics.mean(data))\n",
    "    \n",
    "plt.plot(range(5, 76), mean_container, color = 'black')\n",
    "plt.title(\"Average Number of Turns to Win\", fontsize = 14)\n",
    "plt.xlabel(\"Rolling Threshold ('Roll until you hit __')\", fontsize=12)\n",
    "plt.ylabel(\"Avg. Number of Turns\", fontsize = 12)\n",
    "plt.show()"
   ]
  },
  {
   "cell_type": "markdown",
   "metadata": {},
   "source": [
    "## TODO "
   ]
  },
  {
   "cell_type": "code",
   "execution_count": null,
   "metadata": {
    "collapsed": true
   },
   "outputs": [],
   "source": []
  },
  {
   "cell_type": "code",
   "execution_count": null,
   "metadata": {
    "collapsed": true
   },
   "outputs": [],
   "source": [
    "# Problem with hitting 100 mid turn... done \n",
    "\n",
    "## problem is that if you have 90 points \n",
    "## and you roll 25 but the threshold is 50 \n",
    "## you'll roll until you hit 50... "
   ]
  },
  {
   "cell_type": "code",
   "execution_count": null,
   "metadata": {
    "collapsed": true
   },
   "outputs": [],
   "source": [
    "# Change doubles logic for multi roll turns \n",
    "\n",
    "# use the dub_flag "
   ]
  }
 ],
 "metadata": {
  "kernelspec": {
   "display_name": "Python 3",
   "language": "python",
   "name": "python3"
  },
  "language_info": {
   "codemirror_mode": {
    "name": "ipython",
    "version": 3
   },
   "file_extension": ".py",
   "mimetype": "text/x-python",
   "name": "python",
   "nbconvert_exporter": "python",
   "pygments_lexer": "ipython3",
   "version": "3.6.3"
  },
  "varInspector": {
   "cols": {
    "lenName": 16,
    "lenType": 16,
    "lenVar": 40
   },
   "kernels_config": {
    "python": {
     "delete_cmd_postfix": "",
     "delete_cmd_prefix": "del ",
     "library": "var_list.py",
     "varRefreshCmd": "print(var_dic_list())"
    },
    "r": {
     "delete_cmd_postfix": ") ",
     "delete_cmd_prefix": "rm(",
     "library": "var_list.r",
     "varRefreshCmd": "cat(var_dic_list()) "
    }
   },
   "types_to_exclude": [
    "module",
    "function",
    "builtin_function_or_method",
    "instance",
    "_Feature"
   ],
   "window_display": false
  }
 },
 "nbformat": 4,
 "nbformat_minor": 2
}
